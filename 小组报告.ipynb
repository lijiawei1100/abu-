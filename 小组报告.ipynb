{
 "cells": [
  {
   "cell_type": "markdown",
   "id": "aebce46c",
   "metadata": {},
   "source": [
    "# 项目简介\n",
    "## 项目介绍\n",
    "1. 基于abu开发平台实现不同风险人群对应不同策略的目的\n",
    "2. 策略中分为选股策略、买卖策略\n",
    "3. 我们以风险厌恶程度为度量单位将人群分为风险偏好人群、风险中性人群、风险厌恶人群\n",
    "4. 选股策略通过用户偏好来提供不同策略\n",
    "5. 买卖策略通过用户偏好提供对应策略，并通过网格搜索交叉调优方法确定最优参数\n",
    "\n",
    "## 小组信息\n",
    "* 小组成员：李嘉伟 赵子宸 孙欣然 王雪燕 刘晴 任嘉怡\n",
    "* 学院：工商管理学院\n",
    "* 班级： 金融1802班\n",
    "* 课程名称：金融科技项目实践2（产品设计与开发）\n",
    "* 上课学期： 2020-2021春季学期\n",
    "\n",
    "ps:具体代码运行可看low risk；mid risk;high risk 文件"
   ]
  },
  {
   "cell_type": "markdown",
   "id": "7fcb0124",
   "metadata": {},
   "source": [
    "# 实验内容"
   ]
  },
  {
   "cell_type": "markdown",
   "id": "70e56546",
   "metadata": {},
   "source": [
    "## 目标人群偏好\n",
    "1. 风险偏好人群：对于股价波动幅度大小不是特别在意，追求短期超额收益,回撤幅度大，风险承受能力较大\n",
    "2. 风险中性人群：介于风险偏好与风险厌恶两种人群之间，没有明确的风险偏好。\n",
    "3. 风险厌恶人群：对于股价波动幅度大小十分在意，追求长期平稳收益，回撤幅度小，风险承受能力较小"
   ]
  },
  {
   "cell_type": "markdown",
   "id": "7a48d0ab",
   "metadata": {},
   "source": [
    "## 选股策略\n",
    "### 策略介绍\n",
    "* 拟合角度选股策略：通过设定股票上升或下降角度阈值从而挑选出符合参数走势的股票\n",
    "* 位移路程比选股策略：通过设定股价曲线在一段区间内的位移与路程的比值范围来筛选出波动幅度不同的股票\n",
    "* 涨幅topN选股策略：通过选取一段时间内涨幅排名靠前的股票"
   ]
  },
  {
   "cell_type": "markdown",
   "id": "4361b7b4",
   "metadata": {},
   "source": [
    "### 核心代码展示"
   ]
  },
  {
   "cell_type": "markdown",
   "id": "598661ef",
   "metadata": {},
   "source": [
    "位移路程比选股策略"
   ]
  },
  {
   "cell_type": "markdown",
   "id": "6662a81f",
   "metadata": {},
   "source": [
    "    class AbuPickStockShiftDistance(AbuPickStockBase):\n",
    "        \"\"\"位移路程比选股因子示例类\"\"\"\n",
    "\n",
    "        def _init_self(self, **kwargs):\n",
    "            \"\"\"通过kwargs设置位移路程比选股条件，配置因子参数\"\"\"\n",
    "            self.threshold_sd = kwargs.pop('threshold_sd', 2.0)\n",
    "            self.threshold_max_cnt = kwargs.pop('threshold_max_cnt', 4)\n",
    "            self.threshold_min_cnt = kwargs.pop('threshold_min_cnt', 1)\n",
    "\n",
    "        @ps.reversed_result\n",
    "        def fit_pick(self, kl_pd, target_symbol):\n",
    "            \"\"\"开始根据位移路程比边际参数进行选股\"\"\"\n",
    "\n",
    "            pick_line = tl.AbuTLine(kl_pd.close, 'shift distance')\n",
    "            shift_distance = pick_line.show_shift_distance(step_x=1.2, show_log=False, show=False)\n",
    "            shift_distance = np.array(shift_distance)\n",
    "            # show_shift_distance返回的参数为四组数据，最后一组是每个时间段的位移路程比值\n",
    "            sd_arr = shift_distance[:, -1]\n",
    "            # 大于阀值的进行累加和计算\n",
    "            # noinspection PyUnresolvedReferences\n",
    "            threshold_cnt = (sd_arr >= self.threshold_sd).sum()\n",
    "            # 边际条件参数开始生效\n",
    "            if self.threshold_max_cnt > threshold_cnt >= self.threshold_min_cnt:\n",
    "                return True\n",
    "            return False\n",
    "\n",
    "        def fit_first_choice(self, pick_worker, choice_symbols, *args, **kwargs):\n",
    "            raise NotImplementedError('AbuPickStockShiftDistance fit_first_choice unsupported now!')"
   ]
  },
  {
   "cell_type": "markdown",
   "id": "9cc1e295",
   "metadata": {},
   "source": [
    "拟合角度选股策略"
   ]
  },
  {
   "cell_type": "markdown",
   "id": "843d261d",
   "metadata": {},
   "source": [
    "    class AbuPickRegressAngMinMax(AbuPickStockBase):\n",
    "        \"\"\"拟合角度选股因子示例类\"\"\"\n",
    "        def _init_self(self, **kwargs):\n",
    "            \"\"\"通过kwargs设置拟合角度边际条件，配置因子参数\"\"\"\n",
    "\n",
    "            # 暂时与base保持一致不使用kwargs.pop('a', default)方式\n",
    "            # fit_pick中 ang > threshold_ang_min, 默认负无穷，即默认所有都符合\n",
    "            self.threshold_ang_min = -np.inf\n",
    "            if 'threshold_ang_min' in kwargs:\n",
    "                # 设置最小角度阀值\n",
    "                self.threshold_ang_min = kwargs['threshold_ang_min']\n",
    "\n",
    "            # fit_pick中 ang < threshold_ang_max, 默认正无穷，即默认所有都符合\n",
    "            self.threshold_ang_max = np.inf\n",
    "            if 'threshold_ang_max' in kwargs:\n",
    "                # 设置最大角度阀值\n",
    "                self.threshold_ang_max = kwargs['threshold_ang_max']\n",
    "\n",
    "        @ps.reversed_result\n",
    "        def fit_pick(self, kl_pd, target_symbol):\n",
    "            \"\"\"开始根据自定义拟合角度边际参数进行选股\"\"\"\n",
    "            # 计算走势角度\n",
    "            ang = ABuRegUtil.calc_regress_deg(kl_pd.close, show=False)\n",
    "            # 根据参数进行角度条件判断\n",
    "            if self.threshold_ang_min < ang < self.threshold_ang_max:\n",
    "                return True\n",
    "            return False\n",
    "\n",
    "        def fit_first_choice(self, pick_worker, choice_symbols, *args, **kwargs):\n",
    "            raise NotImplementedError('AbuPickRegressAng fit_first_choice unsupported now!')\n"
   ]
  },
  {
   "cell_type": "markdown",
   "id": "d2867c74",
   "metadata": {},
   "source": [
    "涨幅topN选股策略"
   ]
  },
  {
   "cell_type": "markdown",
   "id": "8ba337ae",
   "metadata": {},
   "source": [
    "    class AbuPickStockNTop(AbuPickStockBase):\n",
    "        \"\"\"根据一段时间内的涨幅选取top N个\"\"\"\n",
    "\n",
    "        def _init_self(self, **kwargs):\n",
    "            \"\"\"通过kwargs设置选股条件，配置因子参数\"\"\"\n",
    "            # 选股参数symbol_pool：进行涨幅比较的top n个symbol\n",
    "            self.symbol_pool = kwargs.pop('symbol_pool', [])\n",
    "            # 选股参数n_top：选取前n_top个symbol, 默认3\n",
    "            self.n_top = kwargs.pop('n_top', 3)\n",
    "            # 选股参数direction_top：选取前n_top个的方向，即选择涨的多的，还是选择跌的多的\n",
    "            self.direction_top = kwargs.pop('direction_top', 1)\n",
    "\n",
    "        @ps.reversed_result\n",
    "        def fit_pick(self, kl_pd, target_symbol):\n",
    "            \"\"\"开始根据参数进行选股\"\"\"\n",
    "            if len(self.symbol_pool) == 0:\n",
    "                # 如果没有传递任何参照序列symbol，择默认为选中\n",
    "                return True\n",
    "            # 定义lambda函数计算周期内change\n",
    "            kl_change = lambda p_kl: \\\n",
    "                p_kl.iloc[-1].close / p_kl.iloc[0].close if p_kl.iloc[0].close != 0 else 0\n",
    "\n",
    "            cmp_top_array = []\n",
    "            kl_pd.name = target_symbol\n",
    "            # AbuBenchmark直接传递一个kl\n",
    "            benchmark = AbuBenchmark(benchmark_kl_pd=kl_pd)\n",
    "            for symbol in self.symbol_pool:\n",
    "                if symbol != target_symbol:\n",
    "                    # 使用benchmark模式进行获取\n",
    "                    kl = ABuSymbolPd.make_kl_df(symbol, data_mode=EMarketDataSplitMode.E_DATA_SPLIT_UNDO,\n",
    "                                                benchmark=benchmark)\n",
    "                    # kl = ABuSymbolPd.make_kl_df(symbol, start=start, end=end)\n",
    "                    if kl is not None and kl.shape[0] > kl_pd.shape[0] * 0.75:\n",
    "                        # 需要获取实际交易日数量，避免停盘等错误信号\n",
    "                        cmp_top_array.append(kl_change(kl))\n",
    "\n",
    "            if self.n_top > len(cmp_top_array):\n",
    "                # 如果结果序列不足n_top个，直接认为选中\n",
    "                return True\n",
    "\n",
    "            # 与选股方向相乘，即结果只去top\n",
    "            cmp_top_array = np.array(cmp_top_array) * self.direction_top\n",
    "            # 计算本源的周期内涨跌幅度\n",
    "            target_change = kl_change(kl_pd) * self.direction_top\n",
    "            # sort排序小－》大, 非inplace\n",
    "            cmp_top_array.sort()\n",
    "            # [::-1]大－》小\n",
    "            # noinspection PyTypeChecker\n",
    "            if target_change > cmp_top_array[::-1][self.n_top - 1]:\n",
    "                # 如果比排序后的第self.n_top位置上的大就认为选中\n",
    "                return True\n",
    "            return False\n",
    "\n",
    "        def fit_first_choice(self, pick_worker, choice_symbols, *args, **kwargs):\n",
    "            raise NotImplementedError('AbuPickStockNTop fit_first_choice unsupported now!')"
   ]
  },
  {
   "cell_type": "markdown",
   "id": "976fe389",
   "metadata": {},
   "source": [
    "风险厌恶人群选股策略设定如下：拟合角度为0到10度；位移路程比阈值为3，范围为2到4。"
   ]
  },
  {
   "cell_type": "markdown",
   "id": "aaa7d023",
   "metadata": {},
   "source": [
    "    stock_pickers = [{'class': AbuPickRegressAngMinMax,\n",
    "                      'threshold_ang_min': 0.0,'threshold_ang_max': 10, 'reversed': False},\n",
    "                     {'class': AbuPickStockShiftDistance,'threshold_sd':3.0,'threshold_max_cnt':4,\n",
    "                      'threshold_min_cnt':2,\n",
    "                      'reversed': False}]"
   ]
  },
  {
   "cell_type": "markdown",
   "id": "f4ea155e",
   "metadata": {},
   "source": [
    "风险中性人群选股策略设定如下：拟合角度选股为10到20度"
   ]
  },
  {
   "cell_type": "markdown",
   "id": "edf3b24d",
   "metadata": {},
   "source": [
    "    stock_pickers = [{'class': AbuPickRegressAngMinMax,\n",
    "                      'threshold_ang_min': 10.0,'threshold_ang_max': 20, 'reversed': False}]"
   ]
  },
  {
   "cell_type": "markdown",
   "id": "c7609663",
   "metadata": {},
   "source": [
    "风险偏好人群选股策略设定如下：拟合角度选股为20度以上；位移路程比阈值为3，范围为2-4；topN选股涨幅前3的股票"
   ]
  },
  {
   "cell_type": "markdown",
   "id": "c10dc187",
   "metadata": {},
   "source": [
    "     stock_pickers = [{'class': AbuPickRegressAngMinMax,\n",
    "                      'threshold_ang_min': 20.0,'reversed': False},\n",
    "                     {'class': AbuPickStockShiftDistance,'threshold_sd':3.0,'threshold_max_cnt':4,\n",
    "                      'threshold_min_cnt':2,\n",
    "                      'reversed': False},\n",
    "                      {'class':AbuPickStockNTop,'symbol_pool':choice_symbols,'n_top':3,'direction_top':1,\n",
    "                       'reversed': False}]   "
   ]
  },
  {
   "cell_type": "markdown",
   "id": "59768a38",
   "metadata": {},
   "source": [
    "股池设定如下"
   ]
  },
  {
   "cell_type": "markdown",
   "id": "917c5aba",
   "metadata": {},
   "source": [
    "    choice_symbols = ['usNOAH', 'usSFUN', 'usBIDU', 'usAAPL', 'usGOOG',\n",
    "                      'usTSLA', 'usWUBA', 'usVIPS','002230', '300104', '300059', \n",
    "                      '601766', '600085', '600036', '600809', '000002', '002594', '002739','hk03333', \n",
    "                      'hk00700', 'hk02333', 'hk01359', 'hk00656', 'hk03888', 'hk02318']"
   ]
  },
  {
   "cell_type": "markdown",
   "id": "ceed2194",
   "metadata": {},
   "source": [
    "选股函数如下"
   ]
  },
  {
   "cell_type": "markdown",
   "id": "14759008",
   "metadata": {},
   "source": [
    "    benchmark = AbuBenchmark()\n",
    "    capital = AbuCapital(1000000, benchmark)\n",
    "    kl_pd_manger = AbuKLManager(benchmark, capital)\n",
    "    stock_pick = AbuPickStockWorker(capital, benchmark, kl_pd_manger,\n",
    "                                    choice_symbols=choice_symbols,\n",
    "                                    stock_pickers=stock_pickers)"
   ]
  },
  {
   "cell_type": "markdown",
   "id": "1d145ddf",
   "metadata": {},
   "source": [
    "选股结果展示"
   ]
  },
  {
   "cell_type": "markdown",
   "id": "923fbbfa",
   "metadata": {},
   "source": [
    "风险厌恶人群：\n",
    "\n",
    "    ['usBIDU', '601766', 'hk03333']\n",
    "风险中性人群：\n",
    "\n",
    "    ['usTSLA', '300104', '002594', 'hk03888']\n",
    "风险偏好人群：\n",
    "\n",
    "    ['hk00700']"
   ]
  },
  {
   "cell_type": "markdown",
   "id": "8dd8f260",
   "metadata": {},
   "source": [
    "## 买卖策略选择及仓位配置"
   ]
  },
  {
   "cell_type": "markdown",
   "id": "38c38397",
   "metadata": {},
   "source": [
    "### 策略介绍"
   ]
  },
  {
   "cell_type": "markdown",
   "id": "3a16c8d7",
   "metadata": {},
   "source": [
    "1. 向上突破买策：通过设定突破一段时间内的最高点来实现突破买入的策略【常见日期为42天、60天】\n",
    "2. 均值回复买策：当价格跌破均线一段距离时进行买入操作，等待价格回复到均值处。该类操作对于稳定增长的股票而言十分管用。\n",
    "3. 止跌止损卖策： 当盈利超过一定范围或亏损超过一定范围进行卖出操作\n",
    "4. pt仓位管理策略：搭配均值回复策略最有效。即偏离均值的程度越大，仓位越大；偏离均值的程度越小，仓位越小。"
   ]
  },
  {
   "cell_type": "markdown",
   "id": "3e199019",
   "metadata": {},
   "source": [
    "### 核心代码展示"
   ]
  },
  {
   "cell_type": "markdown",
   "id": "feaf8538",
   "metadata": {},
   "source": [
    "向上突破买入策略"
   ]
  },
  {
   "cell_type": "markdown",
   "id": "aac64edd",
   "metadata": {},
   "source": [
    "    class AbuFactorBuyBreak(AbuFactorBuyBase, BuyCallMixin):\n",
    "        \"\"\"示例正向突破买入择时类，混入BuyCallMixin，即向上突破触发买入event\"\"\"\n",
    "\n",
    "        def _init_self(self, **kwargs):\n",
    "            \"\"\"kwargs中必须包含: 突破参数xd 比如20，30，40天...突破\"\"\"\n",
    "            # 突破参数 xd， 比如20，30，40天...突破, 不要使用kwargs.pop('xd', 20), 明确需要参数xq\n",
    "            self.xd = kwargs['xd']\n",
    "            # 在输出生成的orders_pd中显示的名字\n",
    "            self.factor_name = '{}:{}'.format(self.__class__.__name__, self.xd)\n",
    "\n",
    "        def fit_day(self, today):\n",
    "            \"\"\"\n",
    "            针对每一个交易日拟合买入交易策略，寻找向上突破买入机会\n",
    "            :param today: 当前驱动的交易日金融时间序列数据\n",
    "            :return:\n",
    "            \"\"\"\n",
    "            # 忽略不符合买入的天（统计周期内前xd天）\n",
    "            if self.today_ind < self.xd - 1:\n",
    "                return None\n",
    "\n",
    "            # 今天的收盘价格达到xd天内最高价格则符合买入条件\n",
    "            if today.close == self.kl_pd.close[self.today_ind - self.xd + 1:self.today_ind + 1].max():\n",
    "                # 把突破新高参数赋值skip_days，这里也可以考虑make_buy_order确定是否买单成立，但是如果停盘太长时间等也不好\n",
    "                self.skip_days = self.xd\n",
    "                # 生成买入订单, 由于使用了今天的收盘价格做为策略信号判断，所以信号发出后，只能明天买\n",
    "                return self.buy_tomorrow()\n",
    "            return None"
   ]
  },
  {
   "cell_type": "markdown",
   "id": "ad757114",
   "metadata": {},
   "source": [
    "均值回复策略"
   ]
  },
  {
   "cell_type": "markdown",
   "id": "abf4f871",
   "metadata": {},
   "source": [
    "    class AbuUpDownTrend(AbuFactorBuyXD, BuyCallMixin):\n",
    "        \"\"\"示例长线上涨中寻找短线下跌买入择时因子，混入BuyCallMixin\"\"\"\n",
    "\n",
    "        def _init_self(self, **kwargs):\n",
    "            \"\"\"\n",
    "                kwargs中可以包含xd: 比如20，30，40天...突破，默认20\n",
    "                kwargs中可以包含past_factor: 代表长线的趋势判断长度，默认4，long = xd * past_factor->eg: long = 20 * 4\n",
    "                kwargs中可以包含up_deg_threshold: 代表判断上涨趋势拟合角度阀值，即长线拟合角度值多少决策为上涨，默认3\n",
    "            \"\"\"\n",
    "            if 'xd' not in kwargs:\n",
    "                # 如果外部没有设置xd值，默认给一个30\n",
    "                kwargs['xd'] = 20\n",
    "            super(AbuUpDownTrend, self)._init_self(**kwargs)\n",
    "            # 代表长线的趋势判断长度，默认4，long = xd * past_factor->eg: long = 30 * 4\n",
    "            self.past_factor = kwargs.pop('past_factor', 4)\n",
    "            # 代表判断上涨趋势拟合角度阀值，即长线拟合角度值多少决策为上涨，默认4\n",
    "            self.up_deg_threshold = kwargs.pop('up_deg_threshold', 3)\n",
    "\n",
    "        def fit_day(self, today):\n",
    "            \"\"\"\n",
    "            长线周期选择目标为上升趋势的目标，短线寻找近期走势为向下趋势的目标进行买入，期望是持续之前长相的趋势\n",
    "                1. 通过past_today_kl获取长周期的金融时间序列，通过AbuTLine中的is_up_trend判断\n",
    "                长周期是否属于上涨趋势，\n",
    "                2. 今天收盘价为最近xd天内最低价格，且短线xd天的价格走势为下跌趋势\n",
    "                3. 满足1，2发出买入信号\n",
    "            :param today: 当前驱动的交易日金融时间序列数据\n",
    "            \"\"\"\n",
    "            long_kl = self.past_today_kl(today, self.past_factor * self.xd)\n",
    "            tl_long = AbuTLine(long_kl.close, 'long')\n",
    "            # 判断长周期是否属于上涨趋势\n",
    "            if tl_long.is_up_trend(up_deg_threshold=self.up_deg_threshold, show=False):\n",
    "                if today.close == self.xd_kl.close.min() and AbuTLine(\n",
    "                        self.xd_kl.close, 'short').is_down_trend(down_deg_threshold=-self.up_deg_threshold, show=False):\n",
    "                    # 今天收盘价为最近xd天内最低价格，且短线xd天的价格走势为下跌趋势\n",
    "                    return self.buy_tomorrow()"
   ]
  },
  {
   "cell_type": "markdown",
   "id": "d5692f76",
   "metadata": {},
   "source": [
    "风险厌恶人群买策设定为均值回复策略"
   ]
  },
  {
   "cell_type": "markdown",
   "id": "25f38c2b",
   "metadata": {},
   "source": [
    "    buy_factors = {'class': [AbuDownUpTrend]}"
   ]
  },
  {
   "cell_type": "markdown",
   "id": "aad08ab6",
   "metadata": {},
   "source": [
    "风险中性人群买策设定为均值回复策略和向上突破策略"
   ]
  },
  {
   "cell_type": "markdown",
   "id": "dcc68500",
   "metadata": {},
   "source": [
    "    buy_factors = {'class': [AbuDownUpTrend]}\n",
    "\n",
    "    buy_bk_factor_grid1 = {\n",
    "        'class': [AbuFactorBuyBreak],\n",
    "        'xd': [42]\n",
    "    }\n",
    "\n",
    "    buy_bk_factor_grid2 = {\n",
    "        'class': [AbuFactorBuyBreak],\n",
    "        'xd': [60]\n",
    "    }"
   ]
  },
  {
   "cell_type": "markdown",
   "id": "82cb1864",
   "metadata": {},
   "source": [
    "风险偏好人群买策设定为向上突破型策略"
   ]
  },
  {
   "cell_type": "markdown",
   "id": "d9a16cc4",
   "metadata": {},
   "source": [
    "    buy_bk_factor_grid1 = {\n",
    "        'class': [AbuFactorBuyBreak],\n",
    "        'xd': [42]\n",
    "    }\n",
    "\n",
    "    buy_bk_factor_grid2 = {\n",
    "        'class': [AbuFactorBuyBreak],\n",
    "        'xd': [60]\n",
    "    }\n"
   ]
  },
  {
   "cell_type": "markdown",
   "id": "97c03e5d",
   "metadata": {},
   "source": [
    "统一卖策为止跌止损型策略\n",
    "\n",
    "参数区间的设定影响了策略的总数，分的区间越细致所组合成的策略集合更多，数据量更大，在接下来的网格调优阶段更难运行，需要的算力更大"
   ]
  },
  {
   "cell_type": "markdown",
   "id": "88635fc9",
   "metadata": {},
   "source": [
    "    stop_win_range = np.arange(2.0, 4.5, 0.5)  #该位置用来设定止盈范围\n",
    "    stop_loss_range = np.arange(0.5, 2, 0.5)   #该位置用来设定止损范围\n",
    "\n",
    "    sell_atr_nstop_factor_grid = {\n",
    "                  'class': [AbuFactorAtrNStop],\n",
    "                  'stop_loss_n'   : stop_loss_range,\n",
    "                  'stop_win_n'   : stop_win_range\n",
    "             }\n",
    "                    \n",
    "     close_atr_range = np.arange(1.0, 4.0, 0.5)   #该位置用来设定盈利保护止盈参数\n",
    "    pre_atr_range = np.arange(1.0, 3.5, 0.5)     #该位置用来设定暴跌保护止损参数\n",
    "             \n",
    "             \n",
    "    sell_atr_pre_factor_grid = {\n",
    "                  'class': [AbuFactorPreAtrNStop],\n",
    "                  'pre_atr_n' : pre_atr_range\n",
    "             }\n",
    "\n",
    "    sell_atr_close_factor_grid = {\n",
    "                  'class': [AbuFactorCloseAtrNStop],\n",
    "                  'close_atr_n' : close_atr_range\n",
    "             }"
   ]
  },
  {
   "cell_type": "markdown",
   "id": "d44952e5",
   "metadata": {},
   "source": [
    "pt仓位管理策略"
   ]
  },
  {
   "cell_type": "markdown",
   "id": "71f50f39",
   "metadata": {},
   "source": [
    "    class AbuPtPosition(AbuPositionBase):\n",
    "        \"\"\"\n",
    "            示例价格位置仓位管理类：\n",
    "\n",
    "            根据买入价格在之前一段时间的价格位置来决策仓位大小\n",
    "\n",
    "            假设过去一段时间的价格为[10, 9, 8, 7, 6, 5, 4, 3, 2, 1]\n",
    "            如果当前买入价格为2元：则买入仓位配比很高(认为均值回复有很大向上空间)\n",
    "            如果当前买入价格为9元：则买入仓位配比很低(认为均值回复向上空间比较小)\n",
    "        \"\"\"\n",
    "\n",
    "        def fit_position(self, factor_object):\n",
    "            \"\"\"\n",
    "            针对均值回复类型策略的仓位管理：\n",
    "            根据当前买入价格在过去一段金融序列中的价格rank位置来决定仓位\n",
    "            fit_position计算的结果是买入多少个单位（股，手，顿，合约）\n",
    "            :param factor_object: ABuFactorBuyBases子类实例对象\n",
    "            :return:买入多少个单位（股，手，顿，合约）\n",
    "            \"\"\"\n",
    "\n",
    "            # self.kl_pd_buy为买入当天的数据，获取之前的past_day_cnt天数据\n",
    "            last_kl = factor_object.past_today_kl(self.kl_pd_buy, self.past_day_cnt)\n",
    "            if last_kl is None or last_kl.empty:\n",
    "                precent_pos = self.pos_base\n",
    "            else:\n",
    "                # 使用percentileofscore计算买入价格在过去的past_day_cnt天的价格位置\n",
    "                precent_pos = stats.percentileofscore(last_kl.close, self.bp)\n",
    "                precent_pos = (1 + (self.mid_precent - precent_pos) / 100) * self.pos_base\n",
    "            # 最大仓位限制，依然受上层最大仓位控制限制，eg：如果算出全仓，依然会减少到75%，如修改需要修改最大仓位值\n",
    "            precent_pos = self.pos_max if precent_pos > self.pos_max else precent_pos\n",
    "            # 结果是买入多少个单位（股，手，顿，合约）\n",
    "            return self.read_cash * precent_pos / self.bp * self.deposit_rate\n",
    "\n",
    "        def _init_self(self, **kwargs):\n",
    "            \"\"\"价格位置仓位控制管理类初始化设置\"\"\"\n",
    "            # 默认平均仓位比例0.10，即10%\n",
    "            self.pos_base = kwargs.pop('pos_base', 0.10)\n",
    "            # 默认获取之前金融时间序列的长短数量\n",
    "            self.past_day_cnt = kwargs.pop('past_day_cnt', 20)\n",
    "            # 默认的比例中值，一般不需要设置\n",
    "            self.mid_precent = kwargs.pop('mid_precent', 50.0)"
   ]
  },
  {
   "cell_type": "markdown",
   "id": "2a682c36",
   "metadata": {},
   "source": [
    "pt仓位管理策略搭配均值回复买策适用于风险厌恶人群"
   ]
  },
  {
   "cell_type": "markdown",
   "id": "0773f62e",
   "metadata": {},
   "source": [
    "    buy_factors = [{'class': AbuDownUpTrend, 'position': {'class': AbuPtPosition, 'past_day_cnt': 80}}]"
   ]
  },
  {
   "cell_type": "markdown",
   "id": "da92ac68",
   "metadata": {},
   "source": [
    "## 买卖策略配对及网格搜索参数调优"
   ]
  },
  {
   "cell_type": "markdown",
   "id": "8c49de26",
   "metadata": {},
   "source": [
    "风险厌恶人群相应买策和卖策搭配"
   ]
  },
  {
   "cell_type": "markdown",
   "id": "63443d00",
   "metadata": {},
   "source": [
    "    buy_factors_product = ABuGridHelper.gen_factor_grid(\n",
    "        ABuGridHelper.K_GEN_FACTOR_PARAMS_BUY, [buy_factors])\n",
    "    sell_factors_product = ABuGridHelper.gen_factor_grid(\n",
    "        ABuGridHelper.K_GEN_FACTOR_PARAMS_SELL,\n",
    "        [sell_atr_nstop_factor_grid, sell_atr_pre_factor_grid, sell_atr_close_factor_grid], need_empty_sell=True)"
   ]
  },
  {
   "cell_type": "markdown",
   "id": "d61d8d3d",
   "metadata": {},
   "source": [
    "风险中性人群相应买策和卖策搭配"
   ]
  },
  {
   "cell_type": "markdown",
   "id": "7956a2a0",
   "metadata": {},
   "source": [
    "    buy_factors_product = ABuGridHelper.gen_factor_grid(\n",
    "        ABuGridHelper.K_GEN_FACTOR_PARAMS_BUY, [buy_bk_factor_grid1, buy_bk_factor_grid2,buy_factors])\n",
    "    sell_factors_product = ABuGridHelper.gen_factor_grid(\n",
    "        ABuGridHelper.K_GEN_FACTOR_PARAMS_SELL,\n",
    "        [sell_atr_nstop_factor_grid, sell_atr_pre_factor_grid, sell_atr_close_factor_grid], need_empty_sell=True)"
   ]
  },
  {
   "cell_type": "markdown",
   "id": "30b6e0a3",
   "metadata": {},
   "source": [
    "风险偏好人群相应买策和卖策搭配"
   ]
  },
  {
   "cell_type": "markdown",
   "id": "04fd107f",
   "metadata": {},
   "source": [
    "    buy_factors_product = ABuGridHelper.gen_factor_grid(\n",
    "        ABuGridHelper.K_GEN_FACTOR_PARAMS_BUY, [buy_bk_factor_grid1, buy_bk_factor_grid2])\n",
    "    sell_factors_product = ABuGridHelper.gen_factor_grid(\n",
    "        ABuGridHelper.K_GEN_FACTOR_PARAMS_SELL,\n",
    "        [sell_atr_nstop_factor_grid, sell_atr_pre_factor_grid, sell_atr_close_factor_grid], need_empty_sell=True)"
   ]
  },
  {
   "cell_type": "markdown",
   "id": "ab9ab7e9",
   "metadata": {},
   "source": [
    "初始化网格搜索模型"
   ]
  },
  {
   "cell_type": "markdown",
   "id": "7627228f",
   "metadata": {},
   "source": [
    "    read_cash=1000000\n",
    "    grid_search = GridSearch(read_cash, choice_symbols=stock_pick.choice_symbols,\n",
    "                             buy_factors_product=buy_factors_product,\n",
    "                             sell_factors_product=sell_factors_product)"
   ]
  },
  {
   "cell_type": "markdown",
   "id": "04eaf28a",
   "metadata": {},
   "source": [
    "调优运行界面"
   ]
  },
  {
   "cell_type": "markdown",
   "id": "de14724f",
   "metadata": {},
   "source": [
    "    scores = None\n",
    "    score_tuple_array = None\n",
    "\n",
    "    def run_grid_search():\n",
    "        global scores, score_tuple_array\n",
    "        # 运行GridSearch n_jobs=-1启动cpu个数的进程数\n",
    "        scores, score_tuple_array = grid_search.fit(n_jobs=-1)\n",
    "        # 运行完成输出的score_tuple_array可以使用dump_pickle保存在本地，以方便之后使用\n",
    "        ABuFileUtil.dump_pickle(score_tuple_array, '../gen/score_tuple_array')\n",
    "\n",
    "    def select(select):\n",
    "        if select == 'run gird search':\n",
    "            run_grid_search()\n",
    "        else: # load score cache\n",
    "            load_score_cache()\n",
    "\n",
    "    _ = ipywidgets.interact_manual(select, select=['run gird search', 'load score cache'])"
   ]
  },
  {
   "cell_type": "markdown",
   "id": "4645e27f",
   "metadata": {},
   "source": [
    "返回最优调参结果"
   ]
  },
  {
   "cell_type": "markdown",
   "id": "08ee7fca",
   "metadata": {},
   "source": [
    "    best_score_tuple_grid = grid_search.best_score_tuple_grid\n",
    "    AbuMetricsBase.show_general(best_score_tuple_grid.orders_pd, best_score_tuple_grid.action_pd,\n",
    "                                            best_score_tuple_grid.capital, best_score_tuple_grid.benchmark)"
   ]
  },
  {
   "cell_type": "markdown",
   "id": "c2be0590",
   "metadata": {},
   "source": [
    "# 不足及展望"
   ]
  },
  {
   "cell_type": "markdown",
   "id": "ddeeb4f1",
   "metadata": {},
   "source": [
    "1. 设定参数区间决定了调优的快慢，在当前电脑下很难进行更细致的参数区间细分，导致区间内的参数过于单一。\n",
    "2. 该项目初步实现了不同风险承受能力的人群对应不同的策略集合，而这些集合都是通过调优模型得出来的，具有一定参考价值。之后还差系统界面的封装，以实现输入一个参数，返回对应策略的结果，之后会加以完善的。\n",
    "3. 买策卖策可以进一步的增加，再算力许可的范围内也可以进行多组合之间的叠加，但要调优回测时的数据量就更大了。\n",
    "4. 回测股票过少，可以增加为全市场的股票，但相应的计算量增大。\n",
    "5. 还可以结合机器学习的方法实现一定的预测功能，但是就需要很大的数据去训练，且预测结果也很难保证\n",
    "6. 调优模型只用了网格搜索模型，还可以增加别的模型来进行参数调优\n",
    "7. 另外还可以进行仓位管理的设定，在一定的策略下实现仓位的合理控制。\n",
    "8. 可以用UMP裁决的方法把一些高风险，无效的交易舍去。"
   ]
  }
 ],
 "metadata": {
  "kernelspec": {
   "display_name": "Python 3",
   "language": "python",
   "name": "python3"
  },
  "language_info": {
   "codemirror_mode": {
    "name": "ipython",
    "version": 3
   },
   "file_extension": ".py",
   "mimetype": "text/x-python",
   "name": "python",
   "nbconvert_exporter": "python",
   "pygments_lexer": "ipython3",
   "version": "3.7.6"
  },
  "toc": {
   "base_numbering": 1,
   "nav_menu": {},
   "number_sections": true,
   "sideBar": true,
   "skip_h1_title": false,
   "title_cell": "Table of Contents",
   "title_sidebar": "Contents",
   "toc_cell": false,
   "toc_position": {},
   "toc_section_display": true,
   "toc_window_display": true
  }
 },
 "nbformat": 4,
 "nbformat_minor": 5
}
